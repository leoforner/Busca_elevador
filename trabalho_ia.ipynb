{
  "nbformat": 4,
  "nbformat_minor": 0,
  "metadata": {
    "colab": {
      "provenance": [],
      "authorship_tag": "ABX9TyNdnaBeAjwuAyYTh8adpj9u",
      "include_colab_link": true
    },
    "kernelspec": {
      "name": "python3",
      "display_name": "Python 3"
    },
    "language_info": {
      "name": "python"
    }
  },
  "cells": [
    {
      "cell_type": "markdown",
      "metadata": {
        "id": "view-in-github",
        "colab_type": "text"
      },
      "source": [
        "<a href=\"https://colab.research.google.com/github/leoforner/Busca_elevador/blob/main/trabalho_ia.ipynb\" target=\"_parent\"><img src=\"https://colab.research.google.com/assets/colab-badge.svg\" alt=\"Open In Colab\"/></a>"
      ]
    },
    {
      "cell_type": "code",
      "source": [],
      "metadata": {
        "id": "B-88X0pNNS3a"
      },
      "execution_count": null,
      "outputs": []
    },
    {
      "cell_type": "code",
      "execution_count": null,
      "metadata": {
        "id": "PSLypN4Wugln"
      },
      "outputs": [],
      "source": [
        "import random\n",
        "\n",
        "elevador[17,26,20,19,31]\n",
        "\n",
        "subir(x,y){\n",
        "    if ( (elevador[x] || elevador[y]) >)\n",
        "    elevador[x] += 8;\n",
        "    elevador[y] += 8;\n",
        "}\n",
        "\n",
        "descer(x,y){\n",
        "    elevador[x] -= 13;\n",
        "    elevador[y] -= 13;\n",
        "}\n",
        "\n"
      ]
    },
    {
      "cell_type": "code",
      "source": [],
      "metadata": {
        "id": "FMT6qJjtvROx"
      },
      "execution_count": null,
      "outputs": []
    }
  ]
}