{
  "nbformat": 4,
  "nbformat_minor": 0,
  "metadata": {
    "colab": {
      "provenance": [],
      "authorship_tag": "ABX9TyM95YSyngNfX07KQRf0Hnar",
      "include_colab_link": true
    },
    "kernelspec": {
      "name": "python3",
      "display_name": "Python 3"
    },
    "language_info": {
      "name": "python"
    }
  },
  "cells": [
    {
      "cell_type": "markdown",
      "metadata": {
        "id": "view-in-github",
        "colab_type": "text"
      },
      "source": [
        "<a href=\"https://colab.research.google.com/github/leoforner/Busca_elevador/blob/main/trabalho_ia.ipynb\" target=\"_parent\"><img src=\"https://colab.research.google.com/assets/colab-badge.svg\" alt=\"Open In Colab\"/></a>"
      ]
    },
    {
      "cell_type": "code",
      "execution_count": 20,
      "metadata": {
        "id": "PSLypN4Wugln"
      },
      "outputs": [],
      "source": [
        "import random\n",
        "\n",
        "elevador = [17,26,20,19,31]\n",
        "n_andares = 49\n",
        "sobe = 8\n",
        "desce = 13\n",
        "\n",
        "goal = [21,25]\n",
        "\n",
        "\n",
        "def subir(x,y):\n",
        "    if (  n_andares - elevador[x] <= sobe) or (n_andares - elevador[y] <= sobe):\n",
        "        print(elevador)\n",
        "        print(\"não há como subir\")\n",
        "        return False\n",
        "    else:\n",
        "        print(\"subindo\")\n",
        "        elevador[x] += sobe;\n",
        "        elevador[y] += sobe;\n",
        "        print(elevador)\n",
        "\n",
        "\n",
        "def descer(x,y):\n",
        "    if (  elevador[x] <= desce) or ( elevador[y] <= desce):\n",
        "        print(elevador)\n",
        "        print(\"não há como descer\")\n",
        "        return False\n",
        "    else:\n",
        "        print(\"descendo\")\n",
        "        elevador[x] -= desce;\n",
        "        elevador[y] -= desce;\n",
        "        print(elevador)\n",
        "\n",
        "\n",
        "def check():\n",
        "    print(elevador)\n",
        "    for i in elevador:\n",
        "        if not(goal[0] <= i <= goal[1]):\n",
        "            return False\n",
        "    return True\n",
        "\n"
      ]
    },
    {
      "cell_type": "code",
      "source": [],
      "metadata": {
        "id": "jbXUziMurlnX"
      },
      "execution_count": null,
      "outputs": []
    }
  ]
}