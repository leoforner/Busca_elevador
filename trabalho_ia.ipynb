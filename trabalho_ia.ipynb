{
  "nbformat": 4,
  "nbformat_minor": 0,
  "metadata": {
    "colab": {
      "provenance": [],
      "authorship_tag": "ABX9TyOUieBaLD638R0j8mCHlrcC",
      "include_colab_link": true
    },
    "kernelspec": {
      "name": "python3",
      "display_name": "Python 3"
    },
    "language_info": {
      "name": "python"
    }
  },
  "cells": [
    {
      "cell_type": "markdown",
      "metadata": {
        "id": "view-in-github",
        "colab_type": "text"
      },
      "source": [
        "<a href=\"https://colab.research.google.com/github/leoforner/Busca_elevador/blob/main/trabalho_ia.ipynb\" target=\"_parent\"><img src=\"https://colab.research.google.com/assets/colab-badge.svg\" alt=\"Open In Colab\"/></a>"
      ]
    },
    {
      "cell_type": "code",
      "source": [],
      "metadata": {
        "id": "B-88X0pNNS3a"
      },
      "execution_count": null,
      "outputs": []
    },
    {
      "cell_type": "code",
      "execution_count": null,
      "metadata": {
        "id": "PSLypN4Wugln"
      },
      "outputs": [],
      "source": [
        "import random\n",
        "\n",
        "elevador[17,26,20,19,31]\n",
        "n_andares = 49\n",
        "sobe = 8\n",
        "desce = 13\n",
        "\n",
        "subir(x,y){\n",
        "    if (  n_andares - elevador[x] <= sobe) or (n_andares - elevador[y] <= sobe):\n",
        "        print(\"não há como subir\")\n",
        "    else:\n",
        "        print(\"subindo\")\n",
        "        elevador[x] += sobe;\n",
        "        elevador[y] += sobe;\n",
        "}\n",
        "\n",
        "descer(x,y){\n",
        "    if (  elevador[x] <= desce) or ( elevador[y] <= desce):\n",
        "        print(\"não há como descer\")\n",
        "    else:\n",
        "        print(\"descendo\")\n",
        "        elevador[x] += desce;\n",
        "        elevador[y] += desce;\n",
        "}\n",
        "\n"
      ]
    },
    {
      "cell_type": "code",
      "source": [],
      "metadata": {
        "id": "FMT6qJjtvROx"
      },
      "execution_count": null,
      "outputs": []
    }
  ]
}